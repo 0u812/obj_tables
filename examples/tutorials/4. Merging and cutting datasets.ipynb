{
 "cells": [
  {
   "cell_type": "markdown",
   "metadata": {},
   "source": [
    "# Introduction"
   ]
  },
  {
   "cell_type": "markdown",
   "metadata": {},
   "source": [
    "This tutorial illustrates how to use *ObjTables* to merge multiple datasets into a single dataset, as well as how to cut a dataset into multiple pieces.\n",
    "\n",
    "##### Composition or merging\n",
    "Composition, or merging, is a powerful mechanism for teams to collaboratively build datasets. Briefly, *ObjTables* merges datasets by representing each dataset as a graph where each node represents an object (an instance of `obj_tables.Model`) and each edge represents a relationship between two objects (an element of `obj_tables.*To*Attribute`), identifying the common nodes, and taking the union of their edges. Datasets can be merged using `obj_tables.Model.merge`.\n",
    "\n",
    "This makes it easy for users to merge datasets. For example, [WC-Lang](https://github.com/KarrLab/wc_lang) enables modelers to use this feature to merge multiple submodels (e.g., submodels of metabolism, transcription, translation) into a single model (e.g., a model of an entire cell).\n",
    "\n",
    "##### Decomposition or cutting\n",
    "Similarly, decomposition, or cutting, is a useful technique for splitting data sets into smaller, more manageable pieces. Briefly, *ObjTables* can generate seperate datasets for all of the children of an object by representing the dataset (the object, its children, and all additional ancestors) as a graph, removing one or more edges, and identifying all of the connected subgraphs.\n",
    "\n",
    "Because there are many ways to decompose a dataset, *ObjTables* makes it easy to define each desired decomposition by specifying the set of edges that should be retained (the inverse of the set of edges that should be cut). The desired decompositions should be defined by setting `obj_tables.Model.Meta.children` equal to a dictionary which maps the name of each desired decomposition to a tuple of the names of the relational attributes of each class that should not be cut. These decompositions can be executed using `obj_tables.RelatedAttribute.cut(kind=key)`.\n",
    "\n",
    "This makes it easy to cut datasets. For example, [WC-Lang](https://github.com/KarrLab/wc_lang) enables modelers to use this feature to split a model into multiple submodels, creating submodels which are easier to simulate, calibrate, and validate.\n",
    "\n",
    "##### Example used in this tutorial\n",
    "This tutorial uses an address book of CEOs as an example."
   ]
  },
  {
   "cell_type": "markdown",
   "metadata": {},
   "source": [
    "# Define a schema for an address book"
   ]
  },
  {
   "cell_type": "markdown",
   "metadata": {},
   "source": [
    "First, as described in [Tutorial 1](1.%20Building%20and%20visualizing%20schemas.ipynb), use *ObjTables* to define a schema for an address book."
   ]
  },
  {
   "cell_type": "code",
   "execution_count": 1,
   "metadata": {},
   "outputs": [],
   "source": [
    "import enum\n",
    "import obj_tables\n",
    "import types\n",
    "\n",
    "\n",
    "# Define classes to represent companies, their CEOs, and their addresses\n",
    "class Address(obj_tables.Model):\n",
    "    street = obj_tables.StringAttribute(unique=True, primary=True, verbose_name='Street')\n",
    "    city = obj_tables.StringAttribute(verbose_name='City')\n",
    "    state = obj_tables.StringAttribute(verbose_name='State')\n",
    "    zip_code = obj_tables.StringAttribute(verbose_name='Zip code')\n",
    "    country = obj_tables.StringAttribute(verbose_name='Country')\n",
    "\n",
    "    class Meta(obj_tables.Model.Meta):\n",
    "        table_format = obj_tables.TableFormat.multiple_cells\n",
    "        attribute_order = ('street', 'city', 'state', 'zip_code', 'country',)\n",
    "        verbose_name = 'Address'\n",
    "        verbose_name_plural = 'Addresses'\n",
    "        children = {\n",
    "            'company_address_book': ('company', 'people',),\n",
    "        }\n",
    "\n",
    "class Company(obj_tables.Model):\n",
    "    name = obj_tables.StringAttribute(unique=True, primary=True, verbose_name='Name')\n",
    "    url = obj_tables.UrlAttribute(verbose_name='URL')\n",
    "    address = obj_tables.OneToOneAttribute(Address, related_name='company', verbose_name='Address')\n",
    "\n",
    "    class Meta(obj_tables.Model.Meta):\n",
    "        table_format = obj_tables.TableFormat.column\n",
    "        attribute_order = ('name', 'url', 'address',)\n",
    "        verbose_name = 'Company'\n",
    "        verbose_name_plural = 'Companies'\n",
    "        children = {\n",
    "            'company_address_book': ('address_book', 'employees', 'address',),\n",
    "        }\n",
    "\n",
    "\n",
    "class PersonType(str, enum.Enum):\n",
    "    family = 'family'\n",
    "    friend = 'friend'\n",
    "    business = 'business'\n",
    "\n",
    "\n",
    "class Person(obj_tables.Model):\n",
    "    name = obj_tables.StringAttribute(unique=True, primary=True, verbose_name='Name')\n",
    "    type = obj_tables.EnumAttribute(PersonType, verbose_name='Type')\n",
    "    company = obj_tables.ManyToOneAttribute(Company, related_name='employees', verbose_name='Company')\n",
    "    email_address = obj_tables.EmailAttribute(verbose_name='Email address')\n",
    "    phone_number = obj_tables.StringAttribute(verbose_name='Phone number')\n",
    "    address = obj_tables.ManyToOneAttribute(Address, related_name='people', verbose_name='Address')\n",
    "\n",
    "    class Meta(obj_tables.Model.Meta):\n",
    "        table_format = obj_tables.TableFormat.row\n",
    "        attribute_order = ('name', 'type', 'company', 'email_address', 'phone_number', 'address',)\n",
    "        verbose_name = 'Person'\n",
    "        verbose_name_plural = 'People'\n",
    "        children = {\n",
    "            'company_address_book': ('address_book', 'company', 'address',),\n",
    "        }\n",
    "        \n",
    "\n",
    "class AddressBook(obj_tables.Model):\n",
    "    id = obj_tables.StringAttribute(unique=True, primary=True, verbose_name='Id')\n",
    "    companies = obj_tables.OneToManyAttribute(Company, related_name='address_book')\n",
    "    people = obj_tables.OneToManyAttribute(Person, related_name='address_book')\n",
    "    \n",
    "    class Meta(obj_tables.Model.Meta):\n",
    "        table_format = obj_tables.TableFormat.column\n",
    "        attribute_order = ('id', 'companies', 'people')\n",
    "        verbose_name = 'Address book'\n",
    "        verbose_name_plural = 'Address books'\n",
    "        children = {\n",
    "            'company_address_book': (),\n",
    "        }"
   ]
  },
  {
   "cell_type": "markdown",
   "metadata": {},
   "source": [
    "# Create two address books of the CEOs and COOs of technology companies"
   ]
  },
  {
   "cell_type": "markdown",
   "metadata": {},
   "source": [
    "##### Use the address book schema to build an address book of the CEOs of technology companies"
   ]
  },
  {
   "cell_type": "code",
   "execution_count": 2,
   "metadata": {},
   "outputs": [],
   "source": [
    "# Tim Cook of Apple\n",
    "apple = Company(name='Apple',\n",
    "                url='https://www.apple.com/',\n",
    "                address=Address(street='10600 N Tantau Ave',\n",
    "                                city='Cupertino',\n",
    "                                state='CA',\n",
    "                                zip_code='95014',\n",
    "                                country='US'))\n",
    "cook = Person(name='Tim Cook',\n",
    "              type=PersonType.business,\n",
    "              company=apple,\n",
    "              email_address='tcook@apple.com',\n",
    "              phone_number='408-996-1010',\n",
    "              address=apple.address)\n",
    "\n",
    "# Reed Hasting of Netflix\n",
    "netflix = Company(name='Netflix',\n",
    "                  url='https://www.netflix.com/',\n",
    "                  address=Address(street='100 Winchester Cir',\n",
    "                                  city='Los Gatos',\n",
    "                                  state='CA',\n",
    "                                  zip_code='95032',\n",
    "                                  country='US'))\n",
    "hastings = Person(name='Reed Hastings',\n",
    "                  type=PersonType.business,\n",
    "                  company=netflix,\n",
    "                  email_address='reed.hastings@netflix.com',\n",
    "                  phone_number='408-540-3700',\n",
    "                  address=netflix.address)\n",
    "\n",
    "# Sundar Pichai of Google\n",
    "google = Company(name='Google',\n",
    "                 url='https://www.google.com/',\n",
    "                 address=Address(street='1600 Amphitheatre Pkwy',\n",
    "                                 city='Mountain View',\n",
    "                                 state='CA',\n",
    "                                 zip_code='94043',\n",
    "                                 country='US'))\n",
    "pichai = Person(name='Sundar Pichai',\n",
    "                type=PersonType.business,\n",
    "                company=google,\n",
    "                email_address='sundar@google.com',\n",
    "                phone_number='650-253-0000',\n",
    "                address=google.address)\n",
    "\n",
    "# Mark Zuckerberg of Facebook\n",
    "facebook = Company(name='Facebook',\n",
    "                   url='https://www.facebook.com/',\n",
    "                   address=Address(street='1 Hacker Way #15',\n",
    "                                   city='Menlo Park',\n",
    "                                   state='CA',\n",
    "                                   zip_code='94025',\n",
    "                                   country='US'))\n",
    "zuckerberg = Person(name='Mark Zuckerberg',\n",
    "                    type=PersonType.business,\n",
    "                    company=facebook,\n",
    "                    email_address='zuck@fb.com',\n",
    "                    phone_number='650-543-4800',\n",
    "                    address=facebook.address)\n",
    "\n",
    "# Merge the companies and CEOs into a single address book\n",
    "ceos = AddressBook(\n",
    "    id = 'tech',\n",
    "    companies = [apple, facebook, google, netflix],\n",
    "    people = [zuckerberg, hastings, pichai, cook],\n",
    ")"
   ]
  },
  {
   "cell_type": "markdown",
   "metadata": {},
   "source": [
    "##### Use the address book schema to build an address book of the COOs of technology companies"
   ]
  },
  {
   "cell_type": "code",
   "execution_count": 3,
   "metadata": {},
   "outputs": [],
   "source": [
    "# Jeff Williams of Apple\n",
    "apple = Company(name='Apple',\n",
    "                url='https://www.apple.com/',\n",
    "                address=Address(street='10600 N Tantau Ave',\n",
    "                                city='Cupertino',\n",
    "                                state='CA',\n",
    "                                zip_code='95014',\n",
    "                                country='US'))\n",
    "williams = Person(name='Jeff Williams',\n",
    "              type=PersonType.business,\n",
    "              company=apple,\n",
    "              email_address='jwilliams@apple.com',\n",
    "              phone_number='408-996-1010',\n",
    "              address=apple.address)\n",
    "\n",
    "# Sheryl Sandberg of Facebook\n",
    "facebook = Company(name='Facebook',\n",
    "                   url='https://www.facebook.com/',\n",
    "                   address=Address(street='1 Hacker Way #15',\n",
    "                                   city='Menlo Park',\n",
    "                                   state='CA',\n",
    "                                   zip_code='94025',\n",
    "                                   country='US'))\n",
    "sandberg = Person(name='Sheryl Sandberg',\n",
    "                    type=PersonType.business,\n",
    "                    company=facebook,\n",
    "                    email_address='sheryl@fb.com',\n",
    "                    phone_number='650-543-4800',\n",
    "                    address=facebook.address)\n",
    "\n",
    "# Bret Taylor of Salesforce\n",
    "salesforce = Company(name='Salesforce',\n",
    "                  url='https://www.salesforce.com/',\n",
    "                  address=Address(street='415 Mission Street, 3rd Floor',\n",
    "                                  city='San Francisco',\n",
    "                                  state='CA',\n",
    "                                  zip_code='94105',\n",
    "                                  country='US'))\n",
    "taylor = Person(name='Bret Taylor',\n",
    "                  type=PersonType.business,\n",
    "                  company=salesforce,\n",
    "                  email_address='btaylor@gmail.com',\n",
    "                  phone_number='667-6389',\n",
    "                  address=salesforce.address)\n",
    "\n",
    "# Merge the companies and COOs into a single address book\n",
    "coos = AddressBook(\n",
    "    id = 'tech',\n",
    "    companies = [apple, facebook, salesforce],\n",
    "    people = [sandberg, taylor, williams],\n",
    ")"
   ]
  },
  {
   "cell_type": "markdown",
   "metadata": {},
   "source": [
    "# Merge the CEOs and COOs into a single address book"
   ]
  },
  {
   "cell_type": "markdown",
   "metadata": {},
   "source": [
    "##### Create a merged address book by copying the CEO address book and merging the COOs into the copy"
   ]
  },
  {
   "cell_type": "code",
   "execution_count": 4,
   "metadata": {},
   "outputs": [],
   "source": [
    "execs = ceos.copy()\n",
    "execs.merge(coos)"
   ]
  },
  {
   "cell_type": "markdown",
   "metadata": {},
   "source": [
    "###### Check that the companies have been merged"
   ]
  },
  {
   "cell_type": "code",
   "execution_count": 5,
   "metadata": {},
   "outputs": [],
   "source": [
    "assert sorted(co.name for co in execs.companies) == ['Apple', 'Facebook', 'Google', 'Netflix', 'Salesforce']"
   ]
  },
  {
   "cell_type": "markdown",
   "metadata": {},
   "source": [
    "##### Check that the CEOs and COOs of Apple and Facebook are joined to the merged companies"
   ]
  },
  {
   "cell_type": "code",
   "execution_count": 6,
   "metadata": {},
   "outputs": [],
   "source": [
    "apple = execs.companies.get_one(name='Apple')\n",
    "assert sorted(exec.name for exec in apple.employees) == ['Jeff Williams', 'Tim Cook']"
   ]
  },
  {
   "cell_type": "code",
   "execution_count": 7,
   "metadata": {},
   "outputs": [],
   "source": [
    "facebook = execs.companies.get_one(name='Facebook')\n",
    "assert sorted(exec.name for exec in facebook.employees) == ['Mark Zuckerberg', 'Sheryl Sandberg']"
   ]
  },
  {
   "cell_type": "markdown",
   "metadata": {},
   "source": [
    "# Cut the merged address book into separate books for each company"
   ]
  },
  {
   "cell_type": "code",
   "execution_count": 8,
   "metadata": {},
   "outputs": [],
   "source": [
    "company_address_books = [co.address_book for co in execs.companies.cut(kind='company_address_book')]"
   ]
  },
  {
   "cell_type": "markdown",
   "metadata": {},
   "source": [
    "##### Print the name of the company of each book"
   ]
  },
  {
   "cell_type": "code",
   "execution_count": 9,
   "metadata": {},
   "outputs": [
    {
     "name": "stdout",
     "output_type": "stream",
     "text": [
      "['Apple', 'Facebook', 'Google', 'Netflix', 'Salesforce']\n"
     ]
    }
   ],
   "source": [
    "print([address_book.companies[0].name for address_book in company_address_books])"
   ]
  },
  {
   "cell_type": "markdown",
   "metadata": {},
   "source": [
    "##### Check that the book for Apple has one company and two people"
   ]
  },
  {
   "cell_type": "code",
   "execution_count": 10,
   "metadata": {},
   "outputs": [],
   "source": [
    "apple_address_book = next(book for book in company_address_books if book.companies[0].name == 'Apple')\n",
    "assert len(apple_address_book.companies) == 1\n",
    "assert len(apple_address_book.people) == 2\n",
    "apple = apple_address_book.companies.get_one(name='Apple')\n",
    "assert sorted(person.name for person in apple_address_book.people) == ['Jeff Williams', 'Tim Cook']\n",
    "assert sorted(exec.name for exec in apple.employees) == ['Jeff Williams', 'Tim Cook']"
   ]
  },
  {
   "cell_type": "markdown",
   "metadata": {},
   "source": [
    "##### Check that the book for Google has one company and one person"
   ]
  },
  {
   "cell_type": "code",
   "execution_count": 11,
   "metadata": {},
   "outputs": [],
   "source": [
    "google_address_book = next(book for book in company_address_books if book.companies[0].name == 'Google')\n",
    "assert len(google_address_book.companies) == 1\n",
    "assert len(google_address_book.people) == 1\n",
    "google = google_address_book.companies.get_one(name='Google')\n",
    "assert [person.name for person in google_address_book.people] == ['Sundar Pichai']\n",
    "assert [exec.name for exec in google.employees] == ['Sundar Pichai']"
   ]
  }
 ],
 "metadata": {
  "kernelspec": {
   "display_name": "Python 3",
   "language": "python",
   "name": "python3"
  },
  "language_info": {
   "codemirror_mode": {
    "name": "ipython",
    "version": 3
   },
   "file_extension": ".py",
   "mimetype": "text/x-python",
   "name": "python",
   "nbconvert_exporter": "python",
   "pygments_lexer": "ipython3",
   "version": "3.7.6"
  },
  "toc": {
   "base_numbering": 1,
   "nav_menu": {},
   "number_sections": true,
   "sideBar": true,
   "skip_h1_title": false,
   "title_cell": "Table of Contents",
   "title_sidebar": "Contents",
   "toc_cell": false,
   "toc_position": {},
   "toc_section_display": true,
   "toc_window_display": false
  },
  "varInspector": {
   "cols": {
    "lenName": 16,
    "lenType": 16,
    "lenVar": 40
   },
   "kernels_config": {
    "python": {
     "delete_cmd_postfix": "",
     "delete_cmd_prefix": "del ",
     "library": "var_list.py",
     "varRefreshCmd": "print(var_dic_list())"
    },
    "r": {
     "delete_cmd_postfix": ") ",
     "delete_cmd_prefix": "rm(",
     "library": "var_list.r",
     "varRefreshCmd": "cat(var_dic_list()) "
    }
   },
   "types_to_exclude": [
    "module",
    "function",
    "builtin_function_or_method",
    "instance",
    "_Feature"
   ],
   "window_display": false
  }
 },
 "nbformat": 4,
 "nbformat_minor": 4
}
