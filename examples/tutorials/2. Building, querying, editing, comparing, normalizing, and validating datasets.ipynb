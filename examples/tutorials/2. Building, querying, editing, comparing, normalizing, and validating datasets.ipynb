{
 "cells": [
  {
   "cell_type": "markdown",
   "metadata": {},
   "source": [
    "# Introduction"
   ]
  },
  {
   "cell_type": "markdown",
   "metadata": {},
   "source": [
    "This tutorial illustrates how to use an *ObjTables* schema to model data, as well as how to use *ObjTables* to query, edit, compare, normalize, and validate datasets. The tutorial uses an address book of CEOs as an example."
   ]
  },
  {
   "cell_type": "markdown",
   "metadata": {},
   "source": [
    "# Define a schema for an address book"
   ]
  },
  {
   "cell_type": "markdown",
   "metadata": {},
   "source": [
    "First, as described in [Tutorial 1](1.%20Building%20and%20visualizing%20schemas.ipynb), use *ObjTables* to define a schema for an address book."
   ]
  },
  {
   "cell_type": "code",
   "execution_count": 1,
   "metadata": {},
   "outputs": [],
   "source": [
    "import enum\n",
    "import obj_tables\n",
    "\n",
    "\n",
    "class Address(obj_tables.Model):\n",
    "    street = obj_tables.StringAttribute(unique=True, primary=True, verbose_name='Street')\n",
    "    city = obj_tables.StringAttribute(verbose_name='City')\n",
    "    state = obj_tables.StringAttribute(verbose_name='State')\n",
    "    zip_code = obj_tables.StringAttribute(verbose_name='Zip code')\n",
    "    country = obj_tables.StringAttribute(verbose_name='Country')\n",
    "\n",
    "    class Meta(obj_tables.Model.Meta):\n",
    "        table_format = obj_tables.TableFormat.multiple_cells\n",
    "        attribute_order = ('street', 'city', 'state', 'zip_code', 'country',)\n",
    "        verbose_name = 'Address'\n",
    "        verbose_name_plural = 'Addresses'\n",
    "        \n",
    "\n",
    "class Company(obj_tables.Model):\n",
    "    name = obj_tables.StringAttribute(unique=True, primary=True, verbose_name='Name')\n",
    "    url = obj_tables.UrlAttribute(verbose_name='URL')\n",
    "    address = obj_tables.OneToOneAttribute(Address, related_name='company', verbose_name='Address')\n",
    "\n",
    "    class Meta(obj_tables.Model.Meta):\n",
    "        table_format = obj_tables.TableFormat.column\n",
    "        attribute_order = ('name', 'url', 'address',)\n",
    "        verbose_name = 'Company'\n",
    "        verbose_name_plural = 'Companies'\n",
    "\n",
    "\n",
    "class PersonType(str, enum.Enum):\n",
    "    family = 'family'\n",
    "    friend = 'friend'\n",
    "    business = 'business'\n",
    "\n",
    "\n",
    "class Person(obj_tables.Model):\n",
    "    name = obj_tables.StringAttribute(unique=True, primary=True, verbose_name='Name')\n",
    "    type = obj_tables.EnumAttribute(PersonType, verbose_name='Type')\n",
    "    company = obj_tables.ManyToOneAttribute(Company, related_name='employees', verbose_name='Company')\n",
    "    email_address = obj_tables.EmailAttribute(verbose_name='Email address')\n",
    "    phone_number = obj_tables.StringAttribute(verbose_name='Phone number')\n",
    "    address = obj_tables.ManyToOneAttribute(Address, related_name='people', verbose_name='Address')\n",
    "\n",
    "    class Meta(obj_tables.Model.Meta):\n",
    "        table_format = obj_tables.TableFormat.row\n",
    "        attribute_order = ('name', 'type', 'company', 'email_address', 'phone_number', 'address',)\n",
    "        verbose_name = 'Person'\n",
    "        verbose_name_plural = 'People'"
   ]
  },
  {
   "cell_type": "markdown",
   "metadata": {},
   "source": [
    "# Use the address book schema to build an address book of technology companies and their CEOs"
   ]
  },
  {
   "cell_type": "markdown",
   "metadata": {},
   "source": [
    "Second, create instances of `Company` and `Person` to represent several major technology companies and their CEOs."
   ]
  },
  {
   "cell_type": "markdown",
   "metadata": {},
   "source": [
    "##### Create objects to represent several major technology companies and their CEOs"
   ]
  },
  {
   "cell_type": "code",
   "execution_count": 2,
   "metadata": {},
   "outputs": [],
   "source": [
    "# Tim Cook of Apple\n",
    "apple = Company(name='Apple',\n",
    "                url='https://www.apple.com/',\n",
    "                address=Address(street='10600 N Tantau Ave',\n",
    "                                city='Cupertino',\n",
    "                                state='CA',\n",
    "                                zip_code='95014',\n",
    "                                country='US'))\n",
    "cook = Person(name='Tim Cook',\n",
    "              type=PersonType.business,\n",
    "              company=apple,\n",
    "              email_address='tcook@apple.com',\n",
    "              phone_number='408-996-1010',\n",
    "              address=apple.address)\n",
    "\n",
    "# Reed Hasting of Netflix\n",
    "netflix = Company(name='Netflix',\n",
    "                  url='https://www.netflix.com/',\n",
    "                  address=Address(street='100 Winchester Cir',\n",
    "                                  city='Los Gatos',\n",
    "                                  state='CA',\n",
    "                                  zip_code='95032',\n",
    "                                  country='US'))\n",
    "hastings = Person(name='Reed Hastings',\n",
    "                  type=PersonType.business,\n",
    "                  company=netflix,\n",
    "                  email_address='reed.hastings@netflix.com',\n",
    "                  phone_number='408-540-3700',\n",
    "                  address=netflix.address)\n",
    "\n",
    "# Sundar Pichai of Google\n",
    "google = Company(name='Google',\n",
    "                 url='https://www.google.com/',\n",
    "                 address=Address(street='1600 Amphitheatre Pkwy',\n",
    "                                 city='Mountain View',\n",
    "                                 state='CA',\n",
    "                                 zip_code='94043',\n",
    "                                 country='US'))\n",
    "pichai = Person(name='Sundar Pichai',\n",
    "                type=PersonType.business,\n",
    "                company=google,\n",
    "                email_address='sundar@google.com',\n",
    "                phone_number='650-253-0000',\n",
    "                address=google.address)\n",
    "\n",
    "# Mark Zuckerberg of Facebook\n",
    "facebook = Company(name='Facebook',\n",
    "                   url='https://www.facebook.com/',\n",
    "                   address=Address(street='1 Hacker Way #15',\n",
    "                                   city='Menlo Park',\n",
    "                                   state='CA',\n",
    "                                   zip_code='94025',\n",
    "                                   country='US'))\n",
    "zuckerberg = Person(name='Mark Zuckerberg',\n",
    "                    type=PersonType.business,\n",
    "                    company=facebook,\n",
    "                    email_address='zuck@fb.com',\n",
    "                    phone_number='650-543-4800',\n",
    "                    address=facebook.address)"
   ]
  },
  {
   "cell_type": "markdown",
   "metadata": {},
   "source": [
    "##### Merge the companies and CEOs into an address book"
   ]
  },
  {
   "cell_type": "code",
   "execution_count": 3,
   "metadata": {},
   "outputs": [],
   "source": [
    "companies = [apple, facebook, google, netflix]\n",
    "ceos = [cook, zuckerberg, pichai, hastings]\n",
    "address_book = companies + ceos"
   ]
  },
  {
   "cell_type": "markdown",
   "metadata": {},
   "source": [
    "# Access and edit the properties of the companies and their CEOS"
   ]
  },
  {
   "cell_type": "markdown",
   "metadata": {},
   "source": [
    "Next, read and write the attributes of instances of `Company` and `Person` to view and edit the part of the address book."
   ]
  },
  {
   "cell_type": "markdown",
   "metadata": {},
   "source": [
    "##### Get the all of the employees of Facebook"
   ]
  },
  {
   "cell_type": "code",
   "execution_count": 4,
   "metadata": {},
   "outputs": [
    {
     "data": {
      "text/plain": [
       "[<__main__.Person at 0x7fc814d8f2d0>]"
      ]
     },
     "execution_count": 4,
     "metadata": {},
     "output_type": "execute_result"
    }
   ],
   "source": [
    "facebook.employees"
   ]
  },
  {
   "cell_type": "markdown",
   "metadata": {},
   "source": [
    "##### Get all of the employees who work at Facebook's headquarters"
   ]
  },
  {
   "cell_type": "code",
   "execution_count": 5,
   "metadata": {},
   "outputs": [
    {
     "data": {
      "text/plain": [
       "[<__main__.Person at 0x7fc814d8f2d0>]"
      ]
     },
     "execution_count": 5,
     "metadata": {},
     "output_type": "execute_result"
    }
   ],
   "source": [
    "facebook.employees.get(address=facebook.address)"
   ]
  },
  {
   "cell_type": "markdown",
   "metadata": {},
   "source": [
    "##### Get the employee whose email is `zuck@fb.com`"
   ]
  },
  {
   "cell_type": "code",
   "execution_count": 6,
   "metadata": {},
   "outputs": [
    {
     "data": {
      "text/plain": [
       "<__main__.Person at 0x7fc814d8f2d0>"
      ]
     },
     "execution_count": 6,
     "metadata": {},
     "output_type": "execute_result"
    }
   ],
   "source": [
    "facebook.employees.get_one(email_address='zuck@fb.com')"
   ]
  },
  {
   "cell_type": "markdown",
   "metadata": {},
   "source": [
    "##### Set Facebook's URL to its corporate website"
   ]
  },
  {
   "cell_type": "code",
   "execution_count": 7,
   "metadata": {},
   "outputs": [],
   "source": [
    "facebook.url = 'https://about.fb.com/'"
   ]
  },
  {
   "cell_type": "markdown",
   "metadata": {},
   "source": [
    "# Compare companies and their CEOs, and find their differences"
   ]
  },
  {
   "cell_type": "markdown",
   "metadata": {},
   "source": [
    "Next, use the `is_equal` and `difference` methods to compare companies and their CEOs and find their differences."
   ]
  },
  {
   "cell_type": "markdown",
   "metadata": {},
   "source": [
    "###### Create a copy of Mark Zuckerberg and check that its equal to the original"
   ]
  },
  {
   "cell_type": "code",
   "execution_count": 8,
   "metadata": {},
   "outputs": [
    {
     "name": "stdout",
     "output_type": "stream",
     "text": [
      "True\n"
     ]
    }
   ],
   "source": [
    "zuckerberg_copy = Person(name='Mark Zuckerberg',\n",
    "                    type=PersonType.business,\n",
    "                    company=facebook,\n",
    "                    email_address='zuck@fb.com',\n",
    "                    phone_number='650-543-4800',\n",
    "                    address=facebook.address)\n",
    "print(zuckerberg_copy.is_equal(zuckerberg))"
   ]
  },
  {
   "cell_type": "markdown",
   "metadata": {},
   "source": [
    "###### Add a entry for the COO of Facebook, and find the differences between her and the CEO"
   ]
  },
  {
   "cell_type": "code",
   "execution_count": 9,
   "metadata": {},
   "outputs": [
    {
     "name": "stdout",
     "output_type": "stream",
     "text": [
      "Objects (Person: \"Sheryl Sandberg\", Person: \"Mark Zuckerberg\") have different attribute values:\n",
      "  `email_address` are not equal:\n",
      "    sheryl@fb.com != zuck@fb.com\n",
      "  `name` are not equal:\n",
      "    Sheryl Sandberg != Mark Zuckerberg\n"
     ]
    }
   ],
   "source": [
    "sandberg = Person(name='Sheryl Sandberg',\n",
    "                    type=PersonType.business,\n",
    "                    company=facebook,\n",
    "                    email_address='sheryl@fb.com',\n",
    "                    phone_number='650-543-4800',\n",
    "                    address=facebook.address)\n",
    "assert not sandberg.is_equal(zuckerberg)\n",
    "print(sandberg.difference(zuckerberg))"
   ]
  },
  {
   "cell_type": "markdown",
   "metadata": {},
   "source": [
    "# Sort (normalize) the address book into a reproducible order"
   ]
  },
  {
   "cell_type": "markdown",
   "metadata": {},
   "source": [
    "In this example, the order of the people in `Company.employees` has no semantic meaning. For example, two instances of `Company` would be considered equal if even the orders of the people in their `employees` attributes were different.\n",
    "\n",
    "To reproducibly conduct computations on `Company.employees`, irrespective of its order, first use the `normalize` method to sort the relationships between objects into reproducible orders."
   ]
  },
  {
   "cell_type": "markdown",
   "metadata": {},
   "source": [
    "##### Define the employees of Facebook in two different orders, sort them, and check that the orders are reproducible"
   ]
  },
  {
   "cell_type": "code",
   "execution_count": 10,
   "metadata": {},
   "outputs": [],
   "source": [
    "facebook.employees = [zuckerberg, sandberg]\n",
    "facebook.normalize()\n",
    "employees_names_a = list(e.name for e in facebook.employees)\n",
    "\n",
    "facebook.employees = [sandberg, zuckerberg]\n",
    "facebook.normalize()\n",
    "employees_names_b = list(e.name for e in facebook.employees)\n",
    "\n",
    "assert employees_names_a == employees_names_b"
   ]
  },
  {
   "cell_type": "markdown",
   "metadata": {},
   "source": [
    "# Validate that the technology companies and their CEOs are a valid address book and find any errors"
   ]
  },
  {
   "cell_type": "markdown",
   "metadata": {},
   "source": [
    "Lastly, use `obj_tables.Validator` to validate the address book of technology companies and their CEOs, and find any errors."
   ]
  },
  {
   "cell_type": "markdown",
   "metadata": {},
   "source": [
    "###### Verify that the address bool is valid"
   ]
  },
  {
   "cell_type": "code",
   "execution_count": 11,
   "metadata": {},
   "outputs": [],
   "source": [
    "errors = obj_tables.Validator().run(address_book)\n",
    "assert errors is None"
   ]
  },
  {
   "cell_type": "markdown",
   "metadata": {},
   "source": [
    "###### Add the copy of Mark Zuckerberg to the address book, and verify that the address book is no longer valid because the name `Mark Zuckerberg` is no longer unique"
   ]
  },
  {
   "cell_type": "code",
   "execution_count": 12,
   "metadata": {},
   "outputs": [
    {
     "name": "stdout",
     "output_type": "stream",
     "text": [
      "Person:\n",
      "  'name':\n",
      "    name values must be unique, but these values are repeated: 'Mark Zuckerberg'\n"
     ]
    }
   ],
   "source": [
    "address_book.append(zuckerberg_copy)\n",
    "errors = obj_tables.Validator().run(address_book)\n",
    "assert errors is not None\n",
    "print(errors)"
   ]
  }
 ],
 "metadata": {
  "kernelspec": {
   "display_name": "Python 3",
   "language": "python",
   "name": "python3"
  },
  "language_info": {
   "codemirror_mode": {
    "name": "ipython",
    "version": 3
   },
   "file_extension": ".py",
   "mimetype": "text/x-python",
   "name": "python",
   "nbconvert_exporter": "python",
   "pygments_lexer": "ipython3",
   "version": "3.7.6"
  },
  "toc": {
   "base_numbering": 1,
   "nav_menu": {},
   "number_sections": true,
   "sideBar": true,
   "skip_h1_title": false,
   "title_cell": "Table of Contents",
   "title_sidebar": "Contents",
   "toc_cell": false,
   "toc_position": {},
   "toc_section_display": true,
   "toc_window_display": false
  },
  "varInspector": {
   "cols": {
    "lenName": 16,
    "lenType": 16,
    "lenVar": 40
   },
   "kernels_config": {
    "python": {
     "delete_cmd_postfix": "",
     "delete_cmd_prefix": "del ",
     "library": "var_list.py",
     "varRefreshCmd": "print(var_dic_list())"
    },
    "r": {
     "delete_cmd_postfix": ") ",
     "delete_cmd_prefix": "rm(",
     "library": "var_list.r",
     "varRefreshCmd": "cat(var_dic_list()) "
    }
   },
   "types_to_exclude": [
    "module",
    "function",
    "builtin_function_or_method",
    "instance",
    "_Feature"
   ],
   "window_display": false
  }
 },
 "nbformat": 4,
 "nbformat_minor": 4
}
