{
 "cells": [
  {
   "cell_type": "markdown",
   "metadata": {},
   "source": [
    "# Introduction"
   ]
  },
  {
   "cell_type": "markdown",
   "metadata": {},
   "source": [
    "This tutorial illustrates how to import an *ObjTables* dataset from a file, export an *ObjTables* dataset to a file, convert an *ObjTables* dataset between two supported file formats, and pretty print a file that contains an *ObjTables* dataset. The tutorial uses an address book of CEOs as an example.\n",
    "\n",
    "##### Supported file formats\n",
    "*ObjTables* supports seven file formats:\n",
    "* Excel workbook\n",
    "* Collection of comma-separated values (CSV) files\n",
    "* Collection of tab-separated values (TSV) files\n",
    "* Single text file which contains multiple comma-separated tables (MULTI.CSV)\n",
    "* Single text file which contains multiple tab-separated tables (MULTI.TSV)\n",
    "* JavaScript Object Notation (JSON) file\n",
    "* YAML Ain't Markup Language (YAML) file\n",
    "\n",
    "##### Use cases for each file format\n",
    "* **View or edit a dataset**: We recommend using an Excel workbook as a graphical user interface for viewing or editing a dataset. *ObjTables* leverages several Excel features:\n",
    "  * Optionally includes additional worksheets that contain a table of contents and the schema for the dataset.\n",
    "  * Highlights, freezes, and protects the row/column headings of each table.\n",
    "  * Uses comments to provide inline help for each row/column.\n",
    "  * Provides drop-down menus for each enumeration and \\*-to-one relationship.\n",
    "  * Uses Excel validation to help users quickly find and correct errors.\n",
    "  * Hides all unused rows and columns.\n",
    "  \n",
    "* **Share or publish a dataset**: We recommend using Excel workbooks to share and publish datasets because an entire dataset and its schema can be captured by a single file and because Excel workbooks are easy for humans to read.\n",
    "\n",
    "* **Revision a dataset**: We recommend using collections of CSV or TSV files to revision datasets with version control systems such as Git. Version control systems can easily difference and merge CSV and TSV files.\n",
    "\n",
    "* **Import a dataset into another programming language or export a dataset from another language**: We recommend using JSON files to work with *ObjTables* datasets in other languages because most languages have methods for parsing JSON files."
   ]
  },
  {
   "cell_type": "markdown",
   "metadata": {},
   "source": [
    "# Define a schema for an address book"
   ]
  },
  {
   "cell_type": "markdown",
   "metadata": {},
   "source": [
    "First, as described in [Tutorial 1](1.%20Building%20and%20visualizing%20schemas.ipynb), use *ObjTables* to define a schema for an address book."
   ]
  },
  {
   "cell_type": "code",
   "execution_count": 1,
   "metadata": {},
   "outputs": [],
   "source": [
    "import enum\n",
    "import obj_tables\n",
    "import types\n",
    "\n",
    "\n",
    "# Define classes to represent companies, their CEOs, and their addresses\n",
    "class Address(obj_tables.Model):\n",
    "    street = obj_tables.StringAttribute(unique=True, primary=True, verbose_name='Street')\n",
    "    city = obj_tables.StringAttribute(verbose_name='City')\n",
    "    state = obj_tables.StringAttribute(verbose_name='State')\n",
    "    zip_code = obj_tables.StringAttribute(verbose_name='Zip code')\n",
    "    country = obj_tables.StringAttribute(verbose_name='Country')\n",
    "\n",
    "    class Meta(obj_tables.Model.Meta):\n",
    "        table_format = obj_tables.TableFormat.multiple_cells\n",
    "        attribute_order = ('street', 'city', 'state', 'zip_code', 'country',)\n",
    "        verbose_name = 'Address'\n",
    "        verbose_name_plural = 'Addresses'\n",
    "        \n",
    "\n",
    "class Company(obj_tables.Model):\n",
    "    name = obj_tables.StringAttribute(unique=True, primary=True, verbose_name='Name')\n",
    "    url = obj_tables.UrlAttribute(verbose_name='URL')\n",
    "    address = obj_tables.OneToOneAttribute(Address, related_name='company', verbose_name='Address')\n",
    "\n",
    "    class Meta(obj_tables.Model.Meta):\n",
    "        table_format = obj_tables.TableFormat.column\n",
    "        attribute_order = ('name', 'url', 'address',)\n",
    "        verbose_name = 'Company'\n",
    "        verbose_name_plural = 'Companies'\n",
    "\n",
    "\n",
    "class PersonType(str, enum.Enum):\n",
    "    family = 'family'\n",
    "    friend = 'friend'\n",
    "    business = 'business'\n",
    "\n",
    "\n",
    "class Person(obj_tables.Model):\n",
    "    name = obj_tables.StringAttribute(unique=True, primary=True, verbose_name='Name')\n",
    "    type = obj_tables.EnumAttribute(PersonType, verbose_name='Type')\n",
    "    company = obj_tables.ManyToOneAttribute(Company, related_name='employees', verbose_name='Company')\n",
    "    email_address = obj_tables.EmailAttribute(verbose_name='Email address')\n",
    "    phone_number = obj_tables.StringAttribute(verbose_name='Phone number')\n",
    "    address = obj_tables.ManyToOneAttribute(Address, related_name='people', verbose_name='Address')\n",
    "\n",
    "    class Meta(obj_tables.Model.Meta):\n",
    "        table_format = obj_tables.TableFormat.row\n",
    "        attribute_order = ('name', 'type', 'company', 'email_address', 'phone_number', 'address',)\n",
    "        verbose_name = 'Person'\n",
    "        verbose_name_plural = 'People'\n",
    "        \n",
    "\n",
    "# Add the classes to a module\n",
    "schema = type('address_book', (types.ModuleType, ), {\n",
    "    'Address': Address,\n",
    "    'Company': Company,\n",
    "    'Person': Person,\n",
    "    'PersonType': PersonType,\n",
    "    'models': [Company, Person],\n",
    "})"
   ]
  },
  {
   "cell_type": "markdown",
   "metadata": {},
   "source": [
    "# Create an adress book of technology companies and their CEOs"
   ]
  },
  {
   "cell_type": "markdown",
   "metadata": {},
   "source": [
    "Use the address book schema to build an address book of technology companies and their CEOs."
   ]
  },
  {
   "cell_type": "code",
   "execution_count": 2,
   "metadata": {},
   "outputs": [],
   "source": [
    "# Tim Cook of Apple\n",
    "apple = Company(name='Apple',\n",
    "                url='https://www.apple.com/',\n",
    "                address=Address(street='10600 N Tantau Ave',\n",
    "                                city='Cupertino',\n",
    "                                state='CA',\n",
    "                                zip_code='95014',\n",
    "                                country='US'))\n",
    "cook = Person(name='Tim Cook',\n",
    "              type=PersonType.business,\n",
    "              company=apple,\n",
    "              email_address='tcook@apple.com',\n",
    "              phone_number='408-996-1010',\n",
    "              address=apple.address)\n",
    "\n",
    "# Reed Hasting of Netflix\n",
    "netflix = Company(name='Netflix',\n",
    "                  url='https://www.netflix.com/',\n",
    "                  address=Address(street='100 Winchester Cir',\n",
    "                                  city='Los Gatos',\n",
    "                                  state='CA',\n",
    "                                  zip_code='95032',\n",
    "                                  country='US'))\n",
    "hastings = Person(name='Reed Hastings',\n",
    "                  type=PersonType.business,\n",
    "                  company=netflix,\n",
    "                  email_address='reed.hastings@netflix.com',\n",
    "                  phone_number='408-540-3700',\n",
    "                  address=netflix.address)\n",
    "\n",
    "# Sundar Pichai of Google\n",
    "google = Company(name='Google',\n",
    "                 url='https://www.google.com/',\n",
    "                 address=Address(street='1600 Amphitheatre Pkwy',\n",
    "                                 city='Mountain View',\n",
    "                                 state='CA',\n",
    "                                 zip_code='94043',\n",
    "                                 country='US'))\n",
    "pichai = Person(name='Sundar Pichai',\n",
    "                type=PersonType.business,\n",
    "                company=google,\n",
    "                email_address='sundar@google.com',\n",
    "                phone_number='650-253-0000',\n",
    "                address=google.address)\n",
    "\n",
    "# Mark Zuckerberg of Facebook\n",
    "facebook = Company(name='Facebook',\n",
    "                   url='https://www.facebook.com/',\n",
    "                   address=Address(street='1 Hacker Way #15',\n",
    "                                   city='Menlo Park',\n",
    "                                   state='CA',\n",
    "                                   zip_code='94025',\n",
    "                                   country='US'))\n",
    "zuckerberg = Person(name='Mark Zuckerberg',\n",
    "                    type=PersonType.business,\n",
    "                    company=facebook,\n",
    "                    email_address='zuck@fb.com',\n",
    "                    phone_number='650-543-4800',\n",
    "                    address=facebook.address)\n",
    "\n",
    "# Merge the companies and CEOs into a single address book\n",
    "companies = [apple, facebook, google, netflix]\n",
    "ceos = [zuckerberg, hastings, pichai, cook]\n",
    "address_book = companies + ceos\n",
    "address_book_by_class = {\n",
    "    Company: companies,\n",
    "    Person: ceos,\n",
    "}"
   ]
  },
  {
   "cell_type": "markdown",
   "metadata": {},
   "source": [
    "# Export the address book to the supported file formats"
   ]
  },
  {
   "cell_type": "markdown",
   "metadata": {},
   "source": [
    "##### Import the `obj_tables.io` module"
   ]
  },
  {
   "cell_type": "code",
   "execution_count": 3,
   "metadata": {},
   "outputs": [],
   "source": [
    "import obj_tables.io"
   ]
  },
  {
   "cell_type": "markdown",
   "metadata": {},
   "source": [
    "##### Export the address book to Excel, CSV, TSV, JSON, and YAML files\n",
    "Use `obj_tables.io.Writer` to export the address book to Excel, CSV, TSV, JSON, and YAML files."
   ]
  },
  {
   "cell_type": "code",
   "execution_count": 4,
   "metadata": {
    "scrolled": false
   },
   "outputs": [
    {
     "data": {
      "text/html": [
       "<ul><li><a target='_blank' href='Address book/Address book.xlsx'>Excel workbook</a></li><li><a target='_blank' href='Address book/Address book.csv'>CSV files</a></li><li><a target='_blank' href='Address book/Address book.tsv'>TSV files</a></li><li><a target='_blank' href='Address book/Address book.multi.csv'>MULTI.CSV file</a></li><li><a target='_blank' href='Address book/Address book.multi.tsv'>MULTI.TSV file</a></li><li><a target='_blank' href='Address book/Address book.json'>JSON file</a></li><li><a target='_blank' href='Address book/Address book.yml'>YAML file</a></li></ul>"
      ],
      "text/plain": [
       "<IPython.core.display.HTML object>"
      ]
     },
     "metadata": {},
     "output_type": "display_data"
    }
   ],
   "source": [
    "import os\n",
    "import tempfile\n",
    "from IPython.core.display import display, HTML\n",
    "\n",
    "dir = 'Address book'\n",
    "xlsx_file = os.path.join(dir, 'Address book.xlsx')\n",
    "csv_file = os.path.join(dir, 'Address book.csv/*.csv')\n",
    "tsv_file = os.path.join(dir, 'Address book.tsv/*.tsv')\n",
    "multi_csv_file = os.path.join(dir, 'Address book.multi.csv')\n",
    "multi_tsv_file = os.path.join(dir, 'Address book.multi.tsv')\n",
    "json_file = os.path.join(dir, 'Address book.json')\n",
    "yml_file = os.path.join(dir, 'Address book.yml')\n",
    "\n",
    "if not os.path.isdir(dir):\n",
    "    os.makedirs(dir)\n",
    "\n",
    "if not os.path.isdir(os.path.join(dir, 'Address book.csv')):\n",
    "    os.makedirs(os.path.join(dir, 'Address book.csv'))\n",
    "    \n",
    "if not os.path.isdir(os.path.join(dir, 'Address book.tsv')):\n",
    "    os.makedirs(os.path.join(dir, 'Address book.tsv'))\n",
    "    \n",
    "# export address book\n",
    "for file in [xlsx_file, csv_file, tsv_file, multi_csv_file, multi_tsv_file, json_file, yml_file]:\n",
    "    obj_tables.io.Writer().run(file, address_book, models=schema.models, \n",
    "                               write_toc=True,\n",
    "                               write_schema=True)\n",
    "\n",
    "# display links to generated files\n",
    "display(\n",
    "    HTML(\n",
    "        \"<ul>\"\n",
    "        + \"<li><a target='_blank' href='{}'>Excel workbook</a></li>\".format(xlsx_file)\n",
    "        + \"<li><a target='_blank' href='{}'>CSV files</a></li>\".format(os.path.dirname(csv_file))\n",
    "        + \"<li><a target='_blank' href='{}'>TSV files</a></li>\".format(os.path.dirname(tsv_file))\n",
    "        + \"<li><a target='_blank' href='{}'>MULTI.CSV file</a></li>\".format(multi_csv_file)\n",
    "        + \"<li><a target='_blank' href='{}'>MULTI.TSV file</a></li>\".format(multi_tsv_file)\n",
    "        + \"<li><a target='_blank' href='{}'>JSON file</a></li>\".format(json_file)\n",
    "        + \"<li><a target='_blank' href='{}'>YAML file</a></li>\".format(yml_file)\n",
    "        + \"</ul>\"\n",
    "    )\n",
    ")"
   ]
  },
  {
   "cell_type": "markdown",
   "metadata": {},
   "source": [
    "# Import the address book from the supported file formats"
   ]
  },
  {
   "cell_type": "markdown",
   "metadata": {},
   "source": [
    "Use `obj_tables.io.Reader` to import the address book from Excel, CSV, TSV, JSON, and YAML files."
   ]
  },
  {
   "cell_type": "code",
   "execution_count": 5,
   "metadata": {},
   "outputs": [],
   "source": [
    "for file in [xlsx_file, csv_file, tsv_file, multi_csv_file, multi_tsv_file, json_file, yml_file]:\n",
    "    # Read the address book\n",
    "    address_book_by_class_copy = obj_tables.io.Reader().run(file,\n",
    "                                                            models=schema.models)\n",
    "\n",
    "    # Check that the imported address book is equal to the original\n",
    "    for cls in address_book_by_class.keys():    \n",
    "        objs = sorted(address_book_by_class[cls], key=lambda obj: obj.name)\n",
    "        copies = sorted(address_book_by_class_copy[cls], key=lambda obj: obj.name)\n",
    "        for obj, copy in zip(objs, copies):\n",
    "            assert obj.is_equal(copy)"
   ]
  },
  {
   "cell_type": "markdown",
   "metadata": {},
   "source": [
    "#  Convert the address book between the supported file formats"
   ]
  },
  {
   "cell_type": "markdown",
   "metadata": {},
   "source": [
    "Use `obj_tables.io.convert` to convert the address book among Excel, CSV, TSV, JSON, and YAML files."
   ]
  },
  {
   "cell_type": "code",
   "execution_count": 6,
   "metadata": {},
   "outputs": [],
   "source": [
    "# Read the address book\n",
    "obj_tables.io.convert(xlsx_file, csv_file, schema_name='Address book', models=schema.models)\n",
    "\n",
    "# Check that the converted address book is equal to the original\n",
    "address_book_by_class_copy = obj_tables.io.Reader().run(csv_file,\n",
    "                                                        schema_name='Address book',\n",
    "                                                        models=schema.models)\n",
    "\n",
    "for cls in address_book_by_class.keys():    \n",
    "    for obj, copy in zip(address_book_by_class[cls], address_book_by_class_copy[cls]):\n",
    "        assert obj.is_equal(copy)"
   ]
  },
  {
   "cell_type": "markdown",
   "metadata": {},
   "source": [
    "# Pretty print an Excel file which contains an address book"
   ]
  },
  {
   "cell_type": "markdown",
   "metadata": {},
   "source": [
    "`obj_tables.io.convert` can also be used to pretty print files. This operation makes the following changes to files:\n",
    "  * Orders the worksheets and columns.\n",
    "  * Removes extraneous worksheets and columns that are not controlled by the schema.\n",
    "  * Additional changes to Excel files:\n",
    "    * Optionally includes additional worksheets that contain a table of contents and the schema for the dataset.  \n",
    "    * Highlights, freezes, and protects the column headings of each table.  \n",
    "    * Uses comments to provide inline help for each column.\n",
    "    * Provides drop-down menus for each enumeration and \\*-to-one relationship.\n",
    "    * Uses Excel validation to help users quickly find and correct errors.\n",
    "    * Hides all unused rows and columns."
   ]
  },
  {
   "cell_type": "code",
   "execution_count": 7,
   "metadata": {},
   "outputs": [],
   "source": [
    "# Pretty print the address book\n",
    "obj_tables.io.convert(xlsx_file, xlsx_file, schema_name='Address book', models=schema.models)\n",
    "\n",
    "# Check that the pretty printed address book is equal to the original\n",
    "address_book_by_class_copy = obj_tables.io.Reader().run(xlsx_file,\n",
    "                                                        schema_name='Address book',\n",
    "                                                        models=schema.models)\n",
    "\n",
    "for cls in address_book_by_class.keys():    \n",
    "    for obj, copy in zip(address_book_by_class[cls], address_book_by_class_copy[cls]):\n",
    "        assert obj.is_equal(copy)"
   ]
  }
 ],
 "metadata": {
  "kernelspec": {
   "display_name": "Python 3",
   "language": "python",
   "name": "python3"
  },
  "language_info": {
   "codemirror_mode": {
    "name": "ipython",
    "version": 3
   },
   "file_extension": ".py",
   "mimetype": "text/x-python",
   "name": "python",
   "nbconvert_exporter": "python",
   "pygments_lexer": "ipython3",
   "version": "3.7.6"
  },
  "toc": {
   "base_numbering": 1,
   "nav_menu": {},
   "number_sections": true,
   "sideBar": true,
   "skip_h1_title": false,
   "title_cell": "Table of Contents",
   "title_sidebar": "Contents",
   "toc_cell": false,
   "toc_position": {},
   "toc_section_display": true,
   "toc_window_display": false
  },
  "varInspector": {
   "cols": {
    "lenName": 16,
    "lenType": 16,
    "lenVar": 40
   },
   "kernels_config": {
    "python": {
     "delete_cmd_postfix": "",
     "delete_cmd_prefix": "del ",
     "library": "var_list.py",
     "varRefreshCmd": "print(var_dic_list())"
    },
    "r": {
     "delete_cmd_postfix": ") ",
     "delete_cmd_prefix": "rm(",
     "library": "var_list.r",
     "varRefreshCmd": "cat(var_dic_list()) "
    }
   },
   "types_to_exclude": [
    "module",
    "function",
    "builtin_function_or_method",
    "instance",
    "_Feature"
   ],
   "window_display": false
  }
 },
 "nbformat": 4,
 "nbformat_minor": 4
}
