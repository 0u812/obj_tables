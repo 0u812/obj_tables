{
 "cells": [
  {
   "cell_type": "markdown",
   "metadata": {},
   "source": [
    "# Introduction"
   ]
  },
  {
   "cell_type": "markdown",
   "metadata": {},
   "source": [
    "This tutorial illustrates how to use *ObjTables* to define a schema for modeling data, as well as how to visualize schemas. The tutorial uses an address book as an example."
   ]
  },
  {
   "cell_type": "markdown",
   "metadata": {},
   "source": [
    "# Ceate subclasses of `obj_tables.Model` to represent companies, their employees, and their addresses"
   ]
  },
  {
   "cell_type": "markdown",
   "metadata": {},
   "source": [
    "First, use `obj_tables.Model` and subclasses of `obj_tables.Attribute` to create classes to represent companies, their employees, and their addresses."
   ]
  },
  {
   "cell_type": "markdown",
   "metadata": {},
   "source": [
    "##### Import `obj_tables`"
   ]
  },
  {
   "cell_type": "code",
   "execution_count": 1,
   "metadata": {},
   "outputs": [],
   "source": [
    "import obj_tables"
   ]
  },
  {
   "cell_type": "markdown",
   "metadata": {},
   "source": [
    "##### Create a class `Address` to represent the address of companies and their employees\n",
    "First, define attributes to represent the street, city, state, zip code, and country of an address. \n",
    "\n",
    "Next, use `obj_tables.Model.Meta` to control how adresses are encoded into and decoded from tables.\n",
    "* Use `table_format = obj_tables.TableFormat.multiple_cells` to indicate that addresses should be embedded into and extracted out of tables for companies and people.\n",
    "* Use `attribute_order` to control the order in which the attributes are encoded into colums of tables.\n",
    "* Use `verbose_name` and `verbose_name_plural` to control how address are labeled when embedded into other tables (heading above the address columns)."
   ]
  },
  {
   "cell_type": "code",
   "execution_count": 2,
   "metadata": {},
   "outputs": [],
   "source": [
    "class Address(obj_tables.Model):\n",
    "    street = obj_tables.StringAttribute(unique=True, primary=True, verbose_name='Street')\n",
    "    city = obj_tables.StringAttribute(verbose_name='City')\n",
    "    state = obj_tables.StringAttribute(verbose_name='State')\n",
    "    zip_code = obj_tables.StringAttribute(verbose_name='Zip code')\n",
    "    country = obj_tables.StringAttribute(verbose_name='Country')\n",
    "\n",
    "    class Meta(obj_tables.Model.Meta):\n",
    "        table_format = obj_tables.TableFormat.multiple_cells\n",
    "        attribute_order = ('street', 'city', 'state', 'zip_code', 'country',)\n",
    "        verbose_name = 'Address'\n",
    "        verbose_name_plural = 'Addresses'"
   ]
  },
  {
   "cell_type": "markdown",
   "metadata": {},
   "source": [
    "##### Create a class `Company` to represent companies\n",
    "Next, create a class to represent companies. \n",
    "* Use `unique=True` to indicate each company must have a unique name.\n",
    "* Use `primary=True` to indicate that company names can be used as a foreign key to encode relationships to companies into cells of tables.\n",
    "* Use `obj_tables.OneToOneAttribute` to indicate that each company can have an address."
   ]
  },
  {
   "cell_type": "code",
   "execution_count": 3,
   "metadata": {},
   "outputs": [],
   "source": [
    "class Company(obj_tables.Model):\n",
    "    name = obj_tables.StringAttribute(unique=True, primary=True, verbose_name='Name')\n",
    "    url = obj_tables.UrlAttribute(verbose_name='URL')\n",
    "    address = obj_tables.OneToOneAttribute(Address, related_name='company', verbose_name='Address')\n",
    "\n",
    "    class Meta(obj_tables.Model.Meta):\n",
    "        table_format = obj_tables.TableFormat.column\n",
    "        attribute_order = ('name', 'url', 'address',)\n",
    "        verbose_name = 'Company'\n",
    "        verbose_name_plural = 'Companies'"
   ]
  },
  {
   "cell_type": "markdown",
   "metadata": {},
   "source": [
    "##### Create a class `Person` to represent people\n",
    "Next, create a class to represent people.\n",
    "* Use `enum.Enum` and `obj_tables.EnumAttribute` to capture types of people.\n",
    "* Use `obj_tables.ManyToOneAttribute` to indicate that each person can be employed by a company and have an address."
   ]
  },
  {
   "cell_type": "code",
   "execution_count": 4,
   "metadata": {},
   "outputs": [],
   "source": [
    "import enum\n",
    "\n",
    "\n",
    "class PersonType(str, enum.Enum):\n",
    "    family = 'family'\n",
    "    friend = 'friend'\n",
    "    business = 'business'\n",
    "\n",
    "\n",
    "class Person(obj_tables.Model):\n",
    "    name = obj_tables.StringAttribute(unique=True, primary=True, verbose_name='Name')\n",
    "    type = obj_tables.EnumAttribute(PersonType, verbose_name='Type')\n",
    "    company = obj_tables.ManyToOneAttribute(Company, related_name='employees', verbose_name='Company')\n",
    "    email_address = obj_tables.EmailAttribute(verbose_name='Email address')\n",
    "    phone_number = obj_tables.StringAttribute(verbose_name='Phone number')\n",
    "    address = obj_tables.ManyToOneAttribute(Address, related_name='people', verbose_name='Address')\n",
    "\n",
    "    class Meta(obj_tables.Model.Meta):\n",
    "        table_format = obj_tables.TableFormat.row\n",
    "        attribute_order = ('name', 'type', 'company', 'email_address', 'phone_number', 'address',)\n",
    "        verbose_name = 'Person'\n",
    "        verbose_name_plural = 'People'"
   ]
  },
  {
   "cell_type": "markdown",
   "metadata": {},
   "source": [
    "##### Defining additional types of attributes"
   ]
  },
  {
   "cell_type": "markdown",
   "metadata": {},
   "source": [
    "*ObjTables* supports a wide range of attributes in addition to those illustrated here. This includes attributes that can represent mathematical expressions, NumPy arrays, Pandas DataFrames, chemical structures, and biological sequences. See https://objtables.org for more information."
   ]
  },
  {
   "cell_type": "markdown",
   "metadata": {},
   "source": [
    "##### Customizing the validation of each attribute"
   ]
  },
  {
   "cell_type": "markdown",
   "metadata": {},
   "source": [
    "Most attributes support optional arguments which can be used to define constraints on their values. For example, `obj_tables.StringAttribute` supports two optional arguments, `min_length` and `max_length` which can be used to define the minimum and maximum valid string lengths. See https://objtables.org for more information."
   ]
  },
  {
   "cell_type": "markdown",
   "metadata": {},
   "source": [
    "##### Add the classes to a module"
   ]
  },
  {
   "cell_type": "code",
   "execution_count": 5,
   "metadata": {},
   "outputs": [],
   "source": [
    "import types\n",
    "schema = type('address_book', (types.ModuleType, ), {\n",
    "    'Address': Company,\n",
    "    'PersonType': PersonType,\n",
    "    'Person': Person,\n",
    "    'Company': Company,\n",
    "})"
   ]
  },
  {
   "cell_type": "markdown",
   "metadata": {},
   "source": [
    "# Visualize the schema as a UML diagram"
   ]
  },
  {
   "cell_type": "markdown",
   "metadata": {},
   "source": [
    "Second, use `obj_tables.utils.viz_schema` to visualize the schema for address books."
   ]
  },
  {
   "cell_type": "markdown",
   "metadata": {},
   "source": [
    "##### Create a temporary file for the UML diagram of the schema"
   ]
  },
  {
   "cell_type": "code",
   "execution_count": 6,
   "metadata": {},
   "outputs": [],
   "source": [
    "import tempfile\n",
    "_, filename = tempfile.mkstemp(suffix='.png')"
   ]
  },
  {
   "cell_type": "markdown",
   "metadata": {},
   "source": [
    "##### Generate a UML diagram of the schema"
   ]
  },
  {
   "cell_type": "code",
   "execution_count": 7,
   "metadata": {},
   "outputs": [
    {
     "name": "stderr",
     "output_type": "stream",
     "text": [
      "Warning: node Address, port 5 unrecognized\n",
      "Warning: node Address, port 5 unrecognized\n",
      "Warning: node Address, port 6 unrecognized\n"
     ]
    }
   ],
   "source": [
    "from obj_tables.utils import viz_schema\n",
    "viz_schema(schema, filename)"
   ]
  },
  {
   "cell_type": "markdown",
   "metadata": {},
   "source": [
    "##### Display the UML diagram"
   ]
  },
  {
   "cell_type": "code",
   "execution_count": 8,
   "metadata": {},
   "outputs": [
    {
     "data": {
      "image/png": "[encoded data removed]",
      "text/plain": [
       "<IPython.core.display.Image object>"
      ]
     },
     "execution_count": 8,
     "metadata": {},
     "output_type": "execute_result"
    }
   ],
   "source": [
    "from IPython.display import Image\n",
    "Image(filename=filename)"
   ]
  }
 ],
 "metadata": {
  "kernelspec": {
   "display_name": "Python 3",
   "language": "python",
   "name": "python3"
  },
  "language_info": {
   "codemirror_mode": {
    "name": "ipython",
    "version": 3
   },
   "file_extension": ".py",
   "mimetype": "text/x-python",
   "name": "python",
   "nbconvert_exporter": "python",
   "pygments_lexer": "ipython3",
   "version": "3.7.6"
  },
  "toc": {
   "base_numbering": 1,
   "nav_menu": {},
   "number_sections": true,
   "sideBar": true,
   "skip_h1_title": false,
   "title_cell": "Table of Contents",
   "title_sidebar": "Contents",
   "toc_cell": false,
   "toc_position": {},
   "toc_section_display": true,
   "toc_window_display": false
  },
  "varInspector": {
   "cols": {
    "lenName": 16,
    "lenType": 16,
    "lenVar": 40
   },
   "kernels_config": {
    "python": {
     "delete_cmd_postfix": "",
     "delete_cmd_prefix": "del ",
     "library": "var_list.py",
     "varRefreshCmd": "print(var_dic_list())"
    },
    "r": {
     "delete_cmd_postfix": ") ",
     "delete_cmd_prefix": "rm(",
     "library": "var_list.r",
     "varRefreshCmd": "cat(var_dic_list()) "
    }
   },
   "types_to_exclude": [
    "module",
    "function",
    "builtin_function_or_method",
    "instance",
    "_Feature"
   ],
   "window_display": false
  }
 },
 "nbformat": 4,
 "nbformat_minor": 4
}
